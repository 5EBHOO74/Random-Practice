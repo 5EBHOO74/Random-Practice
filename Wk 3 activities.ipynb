{
 "cells": [
  {
   "cell_type": "code",
   "execution_count": 10,
   "outputs": [
    {
     "name": "stdout",
     "output_type": "stream",
     "text": [
      "['6', '148', '72', '35', '0', '33.6', '0.627', '50', '1']\n",
      "(767, 9)\n",
      "[[  1.     85.     66.     29.      0.     26.6     0.351  31.      0.   ]\n",
      " [  8.    183.     64.      0.      0.     23.3     0.672  32.      1.   ]]\n"
     ]
    }
   ],
   "source": [
    "import numpy as np\n",
    "import csv\n",
    "with open(\"pima_indians_diabetes.csv\",'r') as diabetics:\n",
    "    read_data = csv.reader(diabetics,delimiter = ',')\n",
    "    \n",
    "    diabetics_headers = next(read_data)\n",
    "    \n",
    "    diabetics_data = list(read_data)\n",
    "    diabetics_data = np.array(diabetics_data).astype(float) #read as numpy array making them a float\n",
    "\n",
    "#print the head -you will observe is number rather than the name of column heading\n",
    "print(diabetics_headers)\n",
    "#print the data dimension - you will notice the number of rows.\n",
    "#the number of rows will be different when you append the heading as appropriate\n",
    "#767 rows and 9 columns in this case, therefore one row instance is missing\n",
    "print(diabetics_data.shape)\n",
    "\n",
    "print(diabetics_data[:2])#print the first two rows\n",
    "\n"
   ],
   "metadata": {
    "collapsed": false,
    "pycharm": {
     "name": "#%%\n"
    }
   }
  }
 ],
 "metadata": {
  "kernelspec": {
   "display_name": "Python 3",
   "language": "python",
   "name": "python3"
  },
  "language_info": {
   "codemirror_mode": {
    "name": "ipython",
    "version": 2
   },
   "file_extension": ".py",
   "mimetype": "text/x-python",
   "name": "python",
   "nbconvert_exporter": "python",
   "pygments_lexer": "ipython2",
   "version": "2.7.6"
  }
 },
 "nbformat": 4,
 "nbformat_minor": 0
}